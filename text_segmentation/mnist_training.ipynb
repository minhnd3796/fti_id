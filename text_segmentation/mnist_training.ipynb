{
 "cells": [
  {
   "cell_type": "code",
   "execution_count": 1,
   "metadata": {},
   "outputs": [],
   "source": [
    "import numpy as np\n",
    "import tensorflow as tf"
   ]
  },
  {
   "cell_type": "code",
   "execution_count": 2,
   "metadata": {},
   "outputs": [],
   "source": [
    "train_data = np.load('/home/minhnd/Dropbox/train_data.npy')\n",
    "train_labels = np.load('/home/minhnd/Dropbox/train_labels.npy')\n",
    "eval_data = np.load('/home/minhnd/Dropbox/eval_data.npy')\n",
    "eval_labels = np.load('/home/minhnd/Dropbox/eval_labels.npy')"
   ]
  },
  {
   "cell_type": "code",
   "execution_count": 3,
   "metadata": {},
   "outputs": [
    {
     "name": "stdout",
     "output_type": "stream",
     "text": [
      "MNIST training data: <class 'numpy.ndarray'> (55000, 784)\n",
      "MNIST training labels: <class 'numpy.ndarray'> (55000,)\n",
      "MNIST evaluation data: <class 'numpy.ndarray'> (10000, 784)\n",
      "MNIST evaluation labels: <class 'numpy.ndarray'> (10000,)\n"
     ]
    }
   ],
   "source": [
    "print('MNIST training data:', type(train_data), train_data.shape)\n",
    "print('MNIST training labels:', type(train_labels), train_labels.shape)\n",
    "print('MNIST evaluation data:', type(eval_data), eval_data.shape)\n",
    "print('MNIST evaluation labels:', type(eval_labels), eval_labels.shape)"
   ]
  },
  {
   "cell_type": "code",
   "execution_count": 5,
   "metadata": {},
   "outputs": [],
   "source": [
    "weight_init = tf.contrib.layers.xavier_initializer()\n",
    "bias_init = tf.zeros_initializer()\n",
    "\n",
    "def build_graph():\n",
    "    input_layer = tf.placeholder(tf.float32, shape=[None, 28, 28, 1], name=\"input_layer\")\n",
    "    \n",
    "    conv1_W = tf.get_variable(name='conv1_W', initializer=weight_init, shape=(5, 5, 1, 32))\n",
    "    conv1_b = tf.get_variable(name='conv1_b', initializer=bias_init, shape=(1, 32))\n",
    "    conv1 = tf.nn.relu(tf.nn.bias_add(tf.nn.conv2d(input_layer, conv1_W, strides=[1, 1, 1, 1], padding=\"SAME\"),\n",
    "                                      conv1_b))\n",
    "    \n",
    "    pool1 = tf.nn.max_pool(conv1, ksize=[1, 2, 2, 1], strides=[1, 2, 2, 1], padding=\"SAME\")\n",
    "    conv2_W = tf.get_variable(name='conv2_W', initializer=weight_init, shape=(5, 5, 32, 64))\n",
    "    conv2_b = tf.get_variable(name='conv2_b', initializer=bias_init, shape=(1, 64))\n",
    "    conv2 = tf.nn.relu(tf.nn.bias_add(tf.nn.conv2d(pool1, conv2_W, strides=[1, 1, 1, 1], padding=\"SAME\"),\n",
    "                                      conv2_b))\n",
    "    \n",
    "    pool2 = tf.nn.max_pool(conv2, ksize=[1, 2, 2, 1], strides=[1, 2, 2, 1], padding=\"SAME\")\n",
    "    fc_W = tf.get_variable(name='fc_W', initializer=weight_init, shape=(7, 7, 64, 1024))\n",
    "    fc_b = tf.get_variable(name='fc_b', initializer=bias_init, shape=(1, 1024))\n",
    "    fc = tf.nn.relu(tf.nn.bias_add(tf.nn.conv2d(pool2, fc_W, strides=[1, 1, 1, 1], padding=\"VALID\"),\n",
    "                                   fc_b))\n",
    "    \n",
    "    dropout = tf.nn.dropout(fc, keep_prob=0.6)\n",
    "    logits_W = tf.get_variable(name='logits_W', initializer=weight_init, shape=(1, 1, 1024, 10))\n",
    "    logits_b = tf.get_variable(name='logits_b', initializer=bias_init, shape=(1, 10))\n",
    "    logits = tf.nn.relu(tf.nn.bias_add(tf.nn.conv2d(dropout, logits_W, strides=[1, 1, 1, 1], padding=\"VALID\"),\n",
    "                                      logits_b))"
   ]
  },
  {
   "cell_type": "code",
   "execution_count": 6,
   "metadata": {},
   "outputs": [],
   "source": [
    "def _input():\n",
    "    x = tf.placeholder(dtype=tf.float32, shape=[None, 28, 28, 1], name='input')\n",
    "    y_ = tf.placeholder(dtype=tf.float32, shape=[None, 10], name='label')\n",
    "    return x, y_"
   ]
  },
  {
   "cell_type": "code",
   "execution_count": null,
   "metadata": {},
   "outputs": [],
   "source": []
  }
 ],
 "metadata": {
  "kernelspec": {
   "display_name": "Python 3",
   "language": "python",
   "name": "python3"
  },
  "language_info": {
   "codemirror_mode": {
    "name": "ipython",
    "version": 3
   },
   "file_extension": ".py",
   "mimetype": "text/x-python",
   "name": "python",
   "nbconvert_exporter": "python",
   "pygments_lexer": "ipython3",
   "version": "3.5.2"
  }
 },
 "nbformat": 4,
 "nbformat_minor": 2
}
