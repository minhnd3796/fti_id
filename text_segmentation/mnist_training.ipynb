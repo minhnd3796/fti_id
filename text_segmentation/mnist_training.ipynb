{
 "cells": [
  {
   "cell_type": "code",
   "execution_count": 1,
   "metadata": {},
   "outputs": [],
   "source": [
    "import numpy as np\n",
    "import tensorflow as tf"
   ]
  },
  {
   "cell_type": "code",
   "execution_count": 3,
   "metadata": {},
   "outputs": [],
   "source": [
    "train_data = np.load('/home/minhnd/Dropbox/train_data.npy')\n",
    "train_labels = np.load('/home/minhnd/Dropbox/train_labels.npy')\n",
    "eval_data = np.load('/home/minhnd/Dropbox/eval_data.npy')\n",
    "eval_labels = np.load('/home/minhnd/Dropbox/eval_labels.npy')"
   ]
  },
  {
   "cell_type": "code",
   "execution_count": 4,
   "metadata": {},
   "outputs": [
    {
     "name": "stdout",
     "output_type": "stream",
     "text": [
      "MNIST training data: <class 'numpy.ndarray'> (55000, 784)\n",
      "MNIST training labels: <class 'numpy.ndarray'> (55000,)\n",
      "MNIST evaluation data: <class 'numpy.ndarray'> (10000, 784)\n",
      "MNIST evaluation labels: <class 'numpy.ndarray'> (10000,)\n"
     ]
    }
   ],
   "source": [
    "print('MNIST training data:', type(train_data), train_data.shape)\n",
    "print('MNIST training labels:', type(train_labels), train_labels.shape)\n",
    "print('MNIST evaluation data:', type(eval_data), eval_data.shape)\n",
    "print('MNIST evaluation labels:', type(eval_labels), eval_labels.shape)"
   ]
  },
  {
   "cell_type": "code",
   "execution_count": 9,
   "metadata": {},
   "outputs": [],
   "source": [
    "weight_init = tf.contrib.layers.xavier_initializer()\n",
    "bias_init = tf.zeros_initializer()\n",
    "\n",
    "def build_graph():\n",
    "    input_layer = tf.placeholder(tf.float32, shape=[None, 28, 28, 1], name=\"input_layer\")\n",
    "    \n",
    "    conv1_filter = tf.get_variable(name='conv1_W', initializer=weight_init,  shape=(5, 5, 1, 32))\n",
    "    conv1_bias = tf.get_variable(name='conv1_b', initializer=bias_init,  shape=(1, 32))\n",
    "    conv1 = tf.nn.relu(tf.nn.bias_add(tf.nn.conv2d(input_layer, conv1_filter, strides=[1, 1, 1, 1], padding=\"SAME\"),\n",
    "                                      conv1_bias))\n",
    "    \n",
    "    pool1 = tf.nn.max_pool(conv1, ksize=[1, 2, 2, 1], strides=[1, 2, 2, 1], padding=\"SAME\")\n",
    "    conv2_filter = tf.get_variable(name='conv2_W', initializer=weight_init,  shape=(5, 5, 32, 64))\n",
    "    conv2_bias = tf.get_variable(name='conv2_b', initializer=bias_init,  shape=(1, 64))\n",
    "    conv2 = tf.nn.relu(tf.nn.bias_add(tf.nn.conv2d(pool1, conv2_filter, strides=[1, 1, 1, 1], padding=\"SAME\"),\n",
    "                                      conv2_bias))\n",
    "    \n",
    "    pool2 = tf.nn.max_pool(conv2, ksize=[1, 2, 2, 1], strides=[1, 2, 2, 1], padding=\"SAME\")\n",
    "    pool2_flat = tf.reshape(pool2, [-1, 7 * 7 * 64])\n",
    "    fc_W = tf.get_variable('fc_W', [pool2_flat.get_shape()[1], 1024], initializer=weight_init)\n",
    "    fc_b = tf.get_variable('fc_b', [1024], initializer=bias_init)\n",
    "    dense = tf.nn.xw_plus_b(pool2_flat, fc_W, fc_b)\n",
    "\n",
    "    "
   ]
  }
 ],
 "metadata": {
  "kernelspec": {
   "display_name": "Python 3",
   "language": "python",
   "name": "python3"
  },
  "language_info": {
   "codemirror_mode": {
    "name": "ipython",
    "version": 3
   },
   "file_extension": ".py",
   "mimetype": "text/x-python",
   "name": "python",
   "nbconvert_exporter": "python",
   "pygments_lexer": "ipython3",
   "version": "3.5.2"
  }
 },
 "nbformat": 4,
 "nbformat_minor": 2
}
